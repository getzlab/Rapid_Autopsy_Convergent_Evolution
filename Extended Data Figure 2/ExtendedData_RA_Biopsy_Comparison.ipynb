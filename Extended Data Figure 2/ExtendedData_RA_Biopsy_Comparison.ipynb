{
 "cells": [
  {
   "cell_type": "code",
   "execution_count": 1,
   "id": "33514e78-1cb4-4e61-b9c9-279f0e0c1568",
   "metadata": {},
   "outputs": [],
   "source": [
    "import numpy as np\n",
    "import pandas as pd\n",
    "from matplotlib import pyplot as plt\n",
    "import seaborn as sns\n",
    "import os\n",
    "import dalmatian\n",
    "from scipy import stats\n",
    "import statistics as stat\n",
    "import sys"
   ]
  },
  {
   "cell_type": "code",
   "execution_count": 2,
   "id": "513eaf9e-e929-43ec-b8e9-5a347a6cac42",
   "metadata": {},
   "outputs": [],
   "source": [
    "plt.rcParams['svg.fonttype'] = 'none'"
   ]
  },
  {
   "cell_type": "code",
   "execution_count": null,
   "id": "0d4bbd3f-0f98-46e3-8792-e5e94f85f614",
   "metadata": {},
   "outputs": [],
   "source": [
    "## i should come up with a better way to import all files but this is what I got for now"
   ]
  },
  {
   "cell_type": "markdown",
   "id": "6ba93153-819a-4143-9e05-2381c3d747c7",
   "metadata": {},
   "source": [
    "## Import RA Files"
   ]
  },
  {
   "cell_type": "markdown",
   "id": "c86b7883-3dbc-49f3-a13e-781c91f878b3",
   "metadata": {},
   "source": [
    "### Mut CCFs"
   ]
  },
  {
   "cell_type": "code",
   "execution_count": 3,
   "id": "700ddffd-c4f9-4f31-a6b0-2d653d79473f",
   "metadata": {},
   "outputs": [
    {
     "name": "stdout",
     "output_type": "stream",
     "text": [
      "15\n"
     ]
    }
   ],
   "source": [
    "\n",
    "pat_1598 = pd.read_csv(\"/Users/lmartin/Documents/2020/new_pon_breast_phylo/1598_new_pon_results/1598.mut_ccfs.txt\", sep='\\t')\n",
    "\n",
    "\n",
    "\n",
    "pat_1078 = pd.read_csv(\"/Users/lmartin/Documents/2020/new_pon_breast_phylo/1078_new_pon_results/1078.mut_ccfs.txt\", sep='\\t')\n",
    "\n",
    "\n",
    "pat_1326 = pd.read_csv(\"/Users/lmartin/Documents/2020/new_pon_breast_phylo/1326_firecloud_phylo/1326_cfDNA_high_purity.mut_ccfs.txt\", sep='\\t')\n",
    "pat_1644 = pd.read_csv(\"/Users/lmartin/Documents/2020/new_pon_breast_phylo/1644_passed_muts_results/1644.mut_ccfs.txt\", sep='\\t')\n",
    "\n",
    "pat_2819 = pd.read_csv(\"/Users/lmartin/Documents/2020/new_pon_breast_phylo/2819_passed_muts_results/2819.mut_ccfs.txt\", sep='\\t',\n",
    "                      low_memory=False)\n",
    "pat_2389 = pd.read_csv(\"/Users/lmartin/Documents/2023/2389_multiple_6_bl_tree_0515/2389_multiple_6_bl_tree_v1/2389_multiple_6.mut_ccfs.txt\", sep='\\t',\n",
    "                      low_memory=False)\n",
    "\n",
    "pat_2974 = pd.read_csv(\"/Users/lmartin/Documents/2020/new_pon_breast_phylo/2974_new_pon_results/2974.mut_ccfs.txt\", sep='\\t')\n",
    "\n",
    "pat_1035 = pd.read_csv(\"/Users/lmartin/Documents/2020/new_pon_breast_phylo/1035_with_indel/1035.mut_ccfs.txt\", sep='\\t')\n",
    "\n",
    "pat_1002 = pd.read_csv('~/Documents/2020/new_pon_breast_phylo/1002_pre_post_updated/1002_with_pre_post.mut_ccfs.txt',sep='\\t',\n",
    "                          low_memory=False)\n",
    "pat_1534 = pd.read_csv('~/Documents/2024/RA_1534_vm_new_bams/RA_1534_bl_TBX/1534_bl_TBX/1534.mut_ccfs.txt',sep='\\t')\n",
    "\n",
    "pat_1547 = pd.read_csv('~/Documents/2020/new_pon_breast_phylo/1547_0915/1547_newer_bl_tree/1547.mut_ccfs.txt',sep='\\t',\n",
    "                          low_memory=False)\n",
    "\n",
    "pat_1558 = pd.read_csv('~/Documents/2023/RA_1558_fix_pies/take_3/1558_fix_pies_v3/1558.mut_ccfs.txt',sep='\\t')\n",
    "\n",
    "pat_2542 = pd.read_csv('~/Documents/2023/RA_2542_PIK3CA/2542_high_purity_v6_morebl_moreiter_results/2542_high_purity_v6_morebl_moreiter.mut_ccfs.txt',sep='\\t')\n",
    "\n",
    "pat_1045 = pd.read_csv(\"/Users/lmartin/Documents/2020/new_pon_breast_phylo/1045_vm_phylo_results/1045.mut_ccfs.txt\",sep='\\t',low_memory=False)\n",
    "\n",
    "pat_1113 =pd.read_csv(\"/Users/lmartin/Documents/2020/new_pon_breast_phylo/1113_vm_phylo_results/1113.mut_ccfs.txt\",sep='\\t')\n",
    "\n",
    "\n",
    "pats_list = [pat_1002, pat_1547, pat_1598, pat_1078, pat_1113,pat_2389,pat_1045,\n",
    "            pat_1326, pat_1644, pat_2819, pat_2974, pat_1035, pat_1534, pat_1558, pat_2542]\n",
    "print(len(pats_list))"
   ]
  },
  {
   "cell_type": "code",
   "execution_count": 4,
   "id": "a5129229-f267-4608-9048-e9a5f36061d4",
   "metadata": {},
   "outputs": [],
   "source": [
    "combined_maf = pd.concat(pats_list)\n",
    "combined_maf=combined_maf.iloc[:,0:22]\n",
    "combined_maf.drop(columns=['Sample_Alias'],inplace=True)\n",
    "combined_maf=combined_maf[combined_maf['t_alt_count']!=0]\n",
    "combined_maf.drop_duplicates(['Patient_ID','Hugo_Symbol','Start_position','Cluster_Assignment'],inplace=True)"
   ]
  },
  {
   "cell_type": "markdown",
   "id": "caa68b85-5f10-4199-af18-cffbd3329edd",
   "metadata": {},
   "source": [
    "### Cell Populations"
   ]
  },
  {
   "cell_type": "code",
   "execution_count": 5,
   "id": "6433ec20-ea8e-4879-b342-bd0a8b0d0759",
   "metadata": {},
   "outputs": [],
   "source": [
    "pat_1002_cellpop = pd.read_csv(\"/Users/lmartin/Documents/2020/new_pon_breast_phylo/1002_updated_apr21/1002_with_pre_post_cell_population_abundances.tsv\", sep='\\t')\n",
    "\n",
    "pat_1547_cellpop = pd.read_csv(\"/Users/lmartin/Documents/2020/new_pon_breast_phylo/1547_0915/1547_newer_bl_tree/1547_cell_population_abundances.tsv\", sep='\\t')\n",
    "\n",
    "pat_1078_cellpop = pd.read_csv(\"/Users/lmartin/Documents/2020/new_pon_breast_phylo/1078_new_pon_results/1078_cell_population_abundances.tsv\", sep='\\t')\n",
    "pat_1598_cellpop = pd.read_csv(\"/Users/lmartin/Documents/2020/new_pon_breast_phylo/1598_new_pon_results/1598_cell_population_abundances.tsv\", sep='\\t')\n",
    "\n",
    "pat_1326_cellpop = pd.read_csv(\"/Users/lmartin/Documents/2020/new_pon_breast_phylo/1326_firecloud_phylo/1326_cfDNA_high_purity_cell_population_abundances.tsv\", sep='\\t')\n",
    "pat_1644_cellpop = pd.read_csv(\"/Users/lmartin/Documents/2020/new_pon_breast_phylo/1644_passed_muts_results/1644_cell_population_abundances.tsv\", sep='\\t')\n",
    "\n",
    "pat_2819_cellpop = pd.read_csv(\"/Users/lmartin/Documents/2020/new_pon_breast_phylo/2819_passed_muts_results/2819_cell_population_abundances.tsv\", sep='\\t')\n",
    "pat_2389_cellpop = pd.read_csv(\"/Users/lmartin/Documents/2023/2389_multiple_6_bl_tree_0515/2389_multiple_6_bl_tree_v1/2389_multiple_6_cell_population_abundances.tsv\", sep='\\t')\n",
    "\n",
    "pat_2974_cellpop = pd.read_csv(\"/Users/lmartin/Documents/2020/new_pon_breast_phylo/2974_new_pon_results/2974_cell_population_abundances.tsv\", sep='\\t')\n",
    "pat_1534_cellpop = pd.read_csv(\"/Users/lmartin/Documents/2024/RA_1534_vm_new_bams/RA_1534_bl_TBX/1534_bl_TBX/1534_cell_population_abundances.tsv\", sep='\\t')\n",
    "\n",
    "pat_1035_cellpop = pd.read_csv(\"/Users/lmartin/Documents/2020/new_pon_breast_phylo/1035_with_indel/1035_cell_population_abundances.tsv\", sep='\\t')\n",
    "\n",
    "pat_1113_cellpop = pd.read_csv('/Users/lmartin/Documents/2020/new_pon_breast_phylo/1113_vm_phylo_results/1113_cell_population_abundances.tsv',sep='\\t')\n",
    "pat_1045_cellpop = pd.read_csv('/Users/lmartin/Documents/2020/new_pon_breast_phylo/1045_vm_phylo_results/1045_cell_population_abundances.tsv',sep='\\t')\n",
    "\n",
    "pat_1558_cellpop = pd.read_csv(\"/Users/lmartin/Documents/2023/RA_1558_fix_pies/take_3/1558_fix_pies_v3/1558_cell_population_abundances.tsv\", sep='\\t')\n",
    "\n",
    "\n",
    "pat_2542_cellpop = pd.read_csv('~/Documents/2023/RA_2542_PIK3CA/2542_high_purity_v6_morebl_moreiter_results/2542_high_purity_v6_morebl_moreiter_cell_population_abundances.tsv',sep='\\t')\n",
    "\n",
    "\n",
    "\n",
    "cellpops=[pat_1002_cellpop,pat_1547_cellpop,pat_1078_cellpop,pat_1598_cellpop,pat_1326_cellpop,pat_1644_cellpop,pat_2819_cellpop,\n",
    "         pat_2389_cellpop,pat_2974_cellpop,pat_1534_cellpop,pat_1035_cellpop,pat_1113_cellpop,\n",
    "         pat_1045_cellpop,pat_1558_cellpop,pat_2542_cellpop]\n",
    "\n",
    "\n",
    "cellpop_df = pd.concat(cellpops)"
   ]
  },
  {
   "cell_type": "markdown",
   "id": "dd2c4595-fc7a-4984-a9d1-902601ef7da2",
   "metadata": {},
   "source": [
    "## Import Biopsy Files"
   ]
  },
  {
   "cell_type": "code",
   "execution_count": 11,
   "id": "6924df97-5c7f-4855-84d0-fbb5bfde87cf",
   "metadata": {},
   "outputs": [],
   "source": [
    "pre_post_maf_all = pd.read_csv('~/Documents/2020/clonal_comut_plot/pre_post_muts_updated_MGH001_0503.tsv',sep='\\t',index_col=0)\n",
    "\n"
   ]
  },
  {
   "cell_type": "code",
   "execution_count": 17,
   "id": "1947d4d4-6bb9-49e3-908f-838ee6a36e0b",
   "metadata": {},
   "outputs": [
    {
     "name": "stderr",
     "output_type": "stream",
     "text": [
      "/opt/anaconda3/envs/py39/lib/python3.9/site-packages/dalmatian/wmanager.py:1370: FutureWarning: DataFrame.applymap has been deprecated. Use DataFrame.map instead.\n",
      "  df = df.applymap(lambda x: x['items'] if isinstance(x, dict) and 'items' in x else x)\n",
      "/opt/anaconda3/envs/py39/lib/python3.9/site-packages/dalmatian/wmanager.py:1400: FutureWarning: DataFrame.applymap has been deprecated. Use DataFrame.map instead.\n",
      "  df = df.applymap(lambda x: [i['entityName'] if 'entityName' in i else i for i in x]\n"
     ]
    }
   ],
   "source": [
    "workspace = 'broad-firecloud-ibmwatson/CDK4-Resistance-Combined'\n",
    "pcyc_wm = dalmatian.WorkspaceManager(workspace)\n",
    "pcyc_wm_patients_df = pcyc_wm.get_participants()\n",
    "\n",
    "test_get_cell_pops = pcyc_wm_patients_df[~pcyc_wm_patients_df['phylo_abundances_tsv_updated'].isna()]['phylo_abundances_tsv_updated']\n"
   ]
  },
  {
   "cell_type": "code",
   "execution_count": null,
   "id": "358d4b0b-4cc7-4174-bfec-b48aa3081026",
   "metadata": {},
   "outputs": [],
   "source": [
    "prepost_proximal_samples = ['MGH0001-APCCD', 'MGH0001-APCCX',\n",
    "                            \n",
    "       'MGHCC0002-Tumor-SM-APCDT', \n",
    "        'MGHCC0002-Tumor-SM-APCE4',\n",
    "                            \n",
    "        'MGHCC0003-Tumor-SM-APCEE',\n",
    "       'MGHCC0003-Tumor-SM-APCEN', \n",
    "                            \n",
    "        'MGHCC0004-Tumor-SM-APCGF',\n",
    "       'MGHCC0004-Tumor-SM-APCGP', \n",
    "                            \n",
    "       'MGHCC0005-Tumor-SM-APCHK', \n",
    "        'MGHCC0005-Tumor-SM-APCHU',\n",
    "                            \n",
    "       'MGHCC0006-Tumor-SM-APCKR',\n",
    "       'MGHCC0006-Tumor-SM-APCL8',\n",
    "                            \n",
    "        'MGHCC0007-Tumor-SM-APCLX',\n",
    "       'MGHCC0007-Tumor-SM-APCM8', \n",
    "                            \n",
    "        'MGHCC1002-Tumor-SM-APCMI',\n",
    "       'MGHCC1002-Tumor-SM-APCMS', \n",
    "                            \n",
    "        'MGHCC1005-Tumor-SM-APCD8',\n",
    "       'MGHCC1005-Tumor-SM-APCDJ', \n",
    "                            \n",
    "        'MGHCC1006-Tumor-SM-APCEX',\n",
    "       'MGHCC1006-Tumor-SM-APCF8', \n",
    "                            \n",
    "        'MGHCC1009-Tumor-SM-APCFI',\n",
    "       'MGHCC1009-Tumor-SM-APCFU',\n",
    "                            \n",
    "        'MGHCC1015-Tumor-SM-APCB8',\n",
    "        'MGHCC1015-Tumor-SM-APCBS',\n",
    "                            \n",
    "       'MGHCC1030-Tumor-SM-APCNN', \n",
    "        'MGHCC1030-Tumor-SM-APCNX',\n",
    "                            \n",
    "       'MGHCC1041-Tumor-SM-APCN3', \n",
    "        'MGHCC1041-Tumor-SM-APCND',\n",
    "                            \n",
    "       'MGHCC1099-A', 'MGHCC1099-B',\n",
    "                            \n",
    "        'MGHCC1101-Tumor-SM-APCLI',\n",
    "       'MGHCC1101-Tumor-SM-APCLS',\n",
    "                            \n",
    "       'MGHCC1108-Tumor-SM-APCJ5',\n",
    "        'MGHCC1108-Tumor-SM-APCJA',\n",
    "                             \n",
    "        'MGHCC1112-Tumor-SM-APCIK',\n",
    "       'MGHCC1112-Tumor-SM-APCIU', \n",
    "                            \n",
    "        'MGHCC1173-Tumor-SM-APCI6',\n",
    "       'MGHCC1173-Tumor-SM-APCIF', \n",
    "\n",
    "        'MGHCC1573-Tumor-SM-APCJK',\n",
    "       'MGHCC1573-Tumor-SM-APCJU']"
   ]
  },
  {
   "cell_type": "code",
   "execution_count": null,
   "id": "30b4d6cf-bf98-4fdc-9abc-17ffb663702a",
   "metadata": {},
   "outputs": [],
   "source": []
  },
  {
   "cell_type": "markdown",
   "id": "4f555ad5-fdc1-483b-a9b7-0675f0fcc33b",
   "metadata": {},
   "source": [
    "## Autopsy Sample Level statistics"
   ]
  },
  {
   "cell_type": "code",
   "execution_count": 7,
   "id": "a33ecffd-c532-47c8-8d48-bbb512d57193",
   "metadata": {},
   "outputs": [
    {
     "data": {
      "text/plain": [
       "15"
      ]
     },
     "execution_count": 7,
     "metadata": {},
     "output_type": "execute_result"
    }
   ],
   "source": [
    "len(combined_maf['Patient_ID'].unique())"
   ]
  },
  {
   "cell_type": "code",
   "execution_count": 14,
   "id": "0c8d210c-a1a1-4e8b-b6c6-15d814de3031",
   "metadata": {},
   "outputs": [
    {
     "name": "stdout",
     "output_type": "stream",
     "text": [
      "[5, 5, 5, 5, 9, 10, 12, 14, 14, 15, 19, 20, 21, 22, 22]\n",
      "14.0\n"
     ]
    }
   ],
   "source": [
    "RA_sample_num_per_pat = [ len(combined_maf[combined_maf['Patient_ID'] == i]['Sample_ID'].unique()) for i in list(combined_maf['Patient_ID'].unique()) ]\n",
    "print(sorted(RA_sample_num_per_pat))\n",
    "print(np.median(RA_sample_num_per_pat))\n"
   ]
  },
  {
   "cell_type": "markdown",
   "id": "7743a2a1-62d1-46fb-a7bc-cec7e449305b",
   "metadata": {},
   "source": [
    "## Biopsy Sample Level statistics"
   ]
  },
  {
   "cell_type": "code",
   "execution_count": 12,
   "id": "86eeba75-d94e-4793-b56e-21fc73e486cf",
   "metadata": {},
   "outputs": [
    {
     "name": "stdout",
     "output_type": "stream",
     "text": [
      "22\n"
     ]
    }
   ],
   "source": [
    "print(len(pre_post_maf_all['Patient_ID'].unique()))"
   ]
  },
  {
   "cell_type": "code",
   "execution_count": null,
   "id": "41d9b6ba-c053-4345-bc13-00dbbbb6986b",
   "metadata": {},
   "outputs": [],
   "source": [
    "## remove "
   ]
  },
  {
   "cell_type": "code",
   "execution_count": 15,
   "id": "97291cca-f08b-474b-a7b6-e6f69a1ff910",
   "metadata": {},
   "outputs": [
    {
     "name": "stdout",
     "output_type": "stream",
     "text": [
      "[1, 1, 2, 2, 2, 2, 2, 2, 2, 2, 2, 2, 2, 2, 3, 3, 3, 3, 3, 3, 3, 3]\n",
      "2.0\n"
     ]
    }
   ],
   "source": [
    "biopsy_sample_num_per_pat = [len(pre_post_maf_all[pre_post_maf_all['Patient_ID'] == i]['Sample_ID'].unique()) for i in list(pre_post_maf_all['Patient_ID'].unique())]\n",
    "print(sorted(biopsy_sample_num_per_pat))\n",
    "print(np.median(biopsy_sample_num_per_pat))\n"
   ]
  },
  {
   "cell_type": "markdown",
   "id": "697ecc0b-3339-406e-9dc8-b30a641675a2",
   "metadata": {},
   "source": [
    "## Compare sample numbers"
   ]
  },
  {
   "cell_type": "code",
   "execution_count": 16,
   "id": "9ab284a5-66b2-4486-9632-3d9fecd0bd7e",
   "metadata": {},
   "outputs": [
    {
     "data": {
      "text/plain": [
       "MannwhitneyuResult(statistic=np.float64(330.0), pvalue=np.float64(1.9056382781106136e-07))"
      ]
     },
     "execution_count": 16,
     "metadata": {},
     "output_type": "execute_result"
    }
   ],
   "source": [
    "stats.mannwhitneyu(RA_sample_num_per_pat, biopsy_sample_num_per_pat)\n"
   ]
  },
  {
   "cell_type": "code",
   "execution_count": null,
   "id": "6c973bd6-997a-4cee-80d9-b383f9dc6028",
   "metadata": {},
   "outputs": [],
   "source": []
  }
 ],
 "metadata": {
  "kernelspec": {
   "display_name": "py39",
   "language": "python",
   "name": "py39"
  },
  "language_info": {
   "codemirror_mode": {
    "name": "ipython",
    "version": 3
   },
   "file_extension": ".py",
   "mimetype": "text/x-python",
   "name": "python",
   "nbconvert_exporter": "python",
   "pygments_lexer": "ipython3",
   "version": "3.9.19"
  }
 },
 "nbformat": 4,
 "nbformat_minor": 5
}
