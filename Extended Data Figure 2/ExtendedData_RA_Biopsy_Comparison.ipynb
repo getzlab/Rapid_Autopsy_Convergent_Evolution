{
 "cells": [
  {
   "cell_type": "code",
   "execution_count": 1,
   "id": "33514e78-1cb4-4e61-b9c9-279f0e0c1568",
   "metadata": {},
   "outputs": [],
   "source": [
    "import numpy as np\n",
    "import pandas as pd\n",
    "from matplotlib import pyplot as plt\n",
    "import seaborn as sns\n",
    "import os\n",
    "import dalmatian\n",
    "from scipy import stats\n",
    "import statistics as stat\n",
    "import sys"
   ]
  },
  {
   "cell_type": "code",
   "execution_count": 2,
   "id": "513eaf9e-e929-43ec-b8e9-5a347a6cac42",
   "metadata": {},
   "outputs": [],
   "source": [
    "plt.rcParams['svg.fonttype'] = 'none'"
   ]
  },
  {
   "cell_type": "code",
   "execution_count": null,
   "id": "0d4bbd3f-0f98-46e3-8792-e5e94f85f614",
   "metadata": {},
   "outputs": [],
   "source": [
    "## i should come up with a better way to import all files but this is what I got for now"
   ]
  },
  {
   "cell_type": "markdown",
   "id": "6ba93153-819a-4143-9e05-2381c3d747c7",
   "metadata": {},
   "source": [
    "## Import RA Files"
   ]
  },
  {
   "cell_type": "markdown",
   "id": "c86b7883-3dbc-49f3-a13e-781c91f878b3",
   "metadata": {},
   "source": [
    "### Mut CCFs"
   ]
  },
  {
   "cell_type": "code",
   "execution_count": 3,
   "id": "700ddffd-c4f9-4f31-a6b0-2d653d79473f",
   "metadata": {},
   "outputs": [
    {
     "name": "stdout",
     "output_type": "stream",
     "text": [
      "15\n"
     ]
    }
   ],
   "source": [
    "\n",
    "pat_1598 = pd.read_csv(\"/Users/lmartin/Documents/2020/new_pon_breast_phylo/1598_new_pon_results/1598.mut_ccfs.txt\", sep='\\t')\n",
    "\n",
    "\n",
    "\n",
    "pat_1078 = pd.read_csv(\"/Users/lmartin/Documents/2020/new_pon_breast_phylo/1078_new_pon_results/1078.mut_ccfs.txt\", sep='\\t')\n",
    "\n",
    "\n",
    "pat_1326 = pd.read_csv(\"/Users/lmartin/Documents/2020/new_pon_breast_phylo/1326_firecloud_phylo/1326_cfDNA_high_purity.mut_ccfs.txt\", sep='\\t')\n",
    "pat_1644 = pd.read_csv(\"/Users/lmartin/Documents/2020/new_pon_breast_phylo/1644_passed_muts_results/1644.mut_ccfs.txt\", sep='\\t')\n",
    "\n",
    "pat_2819 = pd.read_csv(\"/Users/lmartin/Documents/2020/new_pon_breast_phylo/2819_passed_muts_results/2819.mut_ccfs.txt\", sep='\\t',\n",
    "                      low_memory=False)\n",
    "pat_2389 = pd.read_csv(\"/Users/lmartin/Documents/2023/2389_multiple_6_bl_tree_0515/2389_multiple_6_bl_tree_v1/2389_multiple_6.mut_ccfs.txt\", sep='\\t',\n",
    "                      low_memory=False)\n",
    "\n",
    "pat_2974 = pd.read_csv(\"/Users/lmartin/Documents/2020/new_pon_breast_phylo/2974_new_pon_results/2974.mut_ccfs.txt\", sep='\\t')\n",
    "\n",
    "pat_1035 = pd.read_csv(\"/Users/lmartin/Documents/2020/new_pon_breast_phylo/1035_with_indel/1035.mut_ccfs.txt\", sep='\\t')\n",
    "\n",
    "pat_1002 = pd.read_csv('~/Documents/2020/new_pon_breast_phylo/1002_pre_post_updated/1002_with_pre_post.mut_ccfs.txt',sep='\\t',\n",
    "                          low_memory=False)\n",
    "pat_1534 = pd.read_csv('~/Documents/2024/RA_1534_vm_new_bams/RA_1534_bl_TBX/1534_bl_TBX/1534.mut_ccfs.txt',sep='\\t')\n",
    "\n",
    "pat_1547 = pd.read_csv('~/Documents/2020/new_pon_breast_phylo/1547_0915/1547_newer_bl_tree/1547.mut_ccfs.txt',sep='\\t',\n",
    "                          low_memory=False)\n",
    "\n",
    "pat_1558 = pd.read_csv('~/Documents/2023/RA_1558_fix_pies/take_3/1558_fix_pies_v3/1558.mut_ccfs.txt',sep='\\t')\n",
    "\n",
    "pat_2542 = pd.read_csv('~/Documents/2023/RA_2542_PIK3CA/2542_high_purity_v6_morebl_moreiter_results/2542_high_purity_v6_morebl_moreiter.mut_ccfs.txt',sep='\\t')\n",
    "\n",
    "pat_1045 = pd.read_csv(\"/Users/lmartin/Documents/2020/new_pon_breast_phylo/1045_vm_phylo_results/1045.mut_ccfs.txt\",sep='\\t',low_memory=False)\n",
    "\n",
    "pat_1113 =pd.read_csv(\"/Users/lmartin/Documents/2020/new_pon_breast_phylo/1113_vm_phylo_results/1113.mut_ccfs.txt\",sep='\\t')\n",
    "\n",
    "\n",
    "pats_list = [pat_1002, pat_1547, pat_1598, pat_1078, pat_1113,pat_2389,pat_1045,\n",
    "            pat_1326, pat_1644, pat_2819, pat_2974, pat_1035, pat_1534, pat_1558, pat_2542]\n",
    "print(len(pats_list))"
   ]
  },
  {
   "cell_type": "code",
   "execution_count": 4,
   "id": "a5129229-f267-4608-9048-e9a5f36061d4",
   "metadata": {},
   "outputs": [],
   "source": [
    "combined_maf = pd.concat(pats_list)\n",
    "combined_maf=combined_maf.iloc[:,0:22]\n",
    "combined_maf.drop(columns=['Sample_Alias'],inplace=True)\n",
    "combined_maf=combined_maf[combined_maf['t_alt_count']!=0]\n",
    "combined_maf.drop_duplicates(['Patient_ID','Hugo_Symbol','Start_position','Cluster_Assignment'],inplace=True)"
   ]
  },
  {
   "cell_type": "markdown",
   "id": "caa68b85-5f10-4199-af18-cffbd3329edd",
   "metadata": {},
   "source": [
    "### Cell Populations"
   ]
  },
  {
   "cell_type": "code",
   "execution_count": 5,
   "id": "6433ec20-ea8e-4879-b342-bd0a8b0d0759",
   "metadata": {},
   "outputs": [],
   "source": [
    "pat_1002_cellpop = pd.read_csv(\"/Users/lmartin/Documents/2020/new_pon_breast_phylo/1002_updated_apr21/1002_with_pre_post_cell_population_abundances.tsv\", sep='\\t')\n",
    "\n",
    "pat_1547_cellpop = pd.read_csv(\"/Users/lmartin/Documents/2020/new_pon_breast_phylo/1547_0915/1547_newer_bl_tree/1547_cell_population_abundances.tsv\", sep='\\t')\n",
    "\n",
    "pat_1078_cellpop = pd.read_csv(\"/Users/lmartin/Documents/2020/new_pon_breast_phylo/1078_new_pon_results/1078_cell_population_abundances.tsv\", sep='\\t')\n",
    "pat_1598_cellpop = pd.read_csv(\"/Users/lmartin/Documents/2020/new_pon_breast_phylo/1598_new_pon_results/1598_cell_population_abundances.tsv\", sep='\\t')\n",
    "\n",
    "pat_1326_cellpop = pd.read_csv(\"/Users/lmartin/Documents/2020/new_pon_breast_phylo/1326_firecloud_phylo/1326_cfDNA_high_purity_cell_population_abundances.tsv\", sep='\\t')\n",
    "pat_1644_cellpop = pd.read_csv(\"/Users/lmartin/Documents/2020/new_pon_breast_phylo/1644_passed_muts_results/1644_cell_population_abundances.tsv\", sep='\\t')\n",
    "\n",
    "pat_2819_cellpop = pd.read_csv(\"/Users/lmartin/Documents/2020/new_pon_breast_phylo/2819_passed_muts_results/2819_cell_population_abundances.tsv\", sep='\\t')\n",
    "pat_2389_cellpop = pd.read_csv(\"/Users/lmartin/Documents/2023/2389_multiple_6_bl_tree_0515/2389_multiple_6_bl_tree_v1/2389_multiple_6_cell_population_abundances.tsv\", sep='\\t')\n",
    "\n",
    "pat_2974_cellpop = pd.read_csv(\"/Users/lmartin/Documents/2020/new_pon_breast_phylo/2974_new_pon_results/2974_cell_population_abundances.tsv\", sep='\\t')\n",
    "pat_1534_cellpop = pd.read_csv(\"/Users/lmartin/Documents/2024/RA_1534_vm_new_bams/RA_1534_bl_TBX/1534_bl_TBX/1534_cell_population_abundances.tsv\", sep='\\t')\n",
    "\n",
    "pat_1035_cellpop = pd.read_csv(\"/Users/lmartin/Documents/2020/new_pon_breast_phylo/1035_with_indel/1035_cell_population_abundances.tsv\", sep='\\t')\n",
    "\n",
    "pat_1113_cellpop = pd.read_csv('/Users/lmartin/Documents/2020/new_pon_breast_phylo/1113_vm_phylo_results/1113_cell_population_abundances.tsv',sep='\\t')\n",
    "pat_1045_cellpop = pd.read_csv('/Users/lmartin/Documents/2020/new_pon_breast_phylo/1045_vm_phylo_results/1045_cell_population_abundances.tsv',sep='\\t')\n",
    "\n",
    "pat_1558_cellpop = pd.read_csv(\"/Users/lmartin/Documents/2023/RA_1558_fix_pies/take_3/1558_fix_pies_v3/1558_cell_population_abundances.tsv\", sep='\\t')\n",
    "\n",
    "\n",
    "pat_2542_cellpop = pd.read_csv('~/Documents/2023/RA_2542_PIK3CA/2542_high_purity_v6_morebl_moreiter_results/2542_high_purity_v6_morebl_moreiter_cell_population_abundances.tsv',sep='\\t')\n",
    "\n",
    "\n",
    "\n",
    "cellpops=[pat_1002_cellpop,pat_1547_cellpop,pat_1078_cellpop,pat_1598_cellpop,pat_1326_cellpop,pat_1644_cellpop,pat_2819_cellpop,\n",
    "         pat_2389_cellpop,pat_2974_cellpop,pat_1534_cellpop,pat_1035_cellpop,pat_1113_cellpop,\n",
    "         pat_1045_cellpop,pat_1558_cellpop,pat_2542_cellpop]\n",
    "\n",
    "\n",
    "cellpop_df = pd.concat(cellpops)"
   ]
  },
  {
   "cell_type": "markdown",
   "id": "dd2c4595-fc7a-4984-a9d1-902601ef7da2",
   "metadata": {},
   "source": [
    "## Import Biopsy Files"
   ]
  },
  {
   "cell_type": "code",
   "execution_count": 11,
   "id": "6924df97-5c7f-4855-84d0-fbb5bfde87cf",
   "metadata": {},
   "outputs": [],
   "source": [
    "pre_post_maf_all = pd.read_csv('~/Documents/2020/clonal_comut_plot/pre_post_muts_updated_MGH001_0503.tsv',sep='\\t',index_col=0)\n",
    "\n"
   ]
  },
  {
   "cell_type": "code",
   "execution_count": 18,
   "id": "1947d4d4-6bb9-49e3-908f-838ee6a36e0b",
   "metadata": {},
   "outputs": [
    {
     "name": "stderr",
     "output_type": "stream",
     "text": [
      "/opt/anaconda3/envs/py39/lib/python3.9/site-packages/dalmatian/wmanager.py:1370: FutureWarning: DataFrame.applymap has been deprecated. Use DataFrame.map instead.\n",
      "  df = df.applymap(lambda x: x['items'] if isinstance(x, dict) and 'items' in x else x)\n",
      "/opt/anaconda3/envs/py39/lib/python3.9/site-packages/dalmatian/wmanager.py:1400: FutureWarning: DataFrame.applymap has been deprecated. Use DataFrame.map instead.\n",
      "  df = df.applymap(lambda x: [i['entityName'] if 'entityName' in i else i for i in x]\n"
     ]
    }
   ],
   "source": [
    "workspace = 'broad-firecloud-ibmwatson/CDK4-Resistance-Combined'\n",
    "pcyc_wm = dalmatian.WorkspaceManager(workspace)\n",
    "pcyc_wm_patients_df = pcyc_wm.get_participants()\n",
    "\n",
    "biopsy_get_cell_pops = pcyc_wm_patients_df[~pcyc_wm_patients_df['phylo_abundances_tsv_updated'].isna()]['phylo_abundances_tsv_updated']\n"
   ]
  },
  {
   "cell_type": "code",
   "execution_count": 33,
   "id": "358d4b0b-4cc7-4174-bfec-b48aa3081026",
   "metadata": {},
   "outputs": [],
   "source": [
    "prepost_proximal_samples = ['MGH0001-APCCD', 'MGH0001-APCCX',\n",
    "                            \n",
    "       'MGHCC0002-Tumor-SM-APCDT', \n",
    "        'MGHCC0002-Tumor-SM-APCE4',\n",
    "                            \n",
    "        'MGHCC0003-Tumor-SM-APCEE',\n",
    "       'MGHCC0003-Tumor-SM-APCEN', \n",
    "                            \n",
    "        'MGHCC0004-Tumor-SM-APCGF',\n",
    "       'MGHCC0004-Tumor-SM-APCGP', \n",
    "                            \n",
    "       'MGHCC0005-Tumor-SM-APCHK', \n",
    "        'MGHCC0005-Tumor-SM-APCHU',\n",
    "                            \n",
    "       'MGHCC0006-Tumor-SM-APCKR',\n",
    "       'MGHCC0006-Tumor-SM-APCL8',\n",
    "                            \n",
    "        'MGHCC0007-Tumor-SM-APCLX',\n",
    "       'MGHCC0007-Tumor-SM-APCM8', \n",
    "                            \n",
    "        'MGHCC1002-Tumor-SM-APCMI',\n",
    "       'MGHCC1002-Tumor-SM-APCMS', \n",
    "                            \n",
    "        'MGHCC1005-Tumor-SM-APCD8',\n",
    "       'MGHCC1005-Tumor-SM-APCDJ', \n",
    "                            \n",
    "        'MGHCC1006-Tumor-SM-APCEX',\n",
    "       'MGHCC1006-Tumor-SM-APCF8', \n",
    "                            \n",
    "        'MGHCC1009-Tumor-SM-APCFI',\n",
    "       'MGHCC1009-Tumor-SM-APCFU',\n",
    "                            \n",
    "        'MGHCC1015-Tumor-SM-APCB8',\n",
    "        'MGHCC1015-Tumor-SM-APCBS',\n",
    "                            \n",
    "       'MGHCC1030-Tumor-SM-APCNN', \n",
    "        'MGHCC1030-Tumor-SM-APCNX',\n",
    "                            \n",
    "       'MGHCC1041-Tumor-SM-APCN3', \n",
    "        'MGHCC1041-Tumor-SM-APCND',\n",
    "                            \n",
    "       'MGHCC1099-A', 'MGHCC1099-B',\n",
    "                            \n",
    "        'MGHCC1101-Tumor-SM-APCLI',\n",
    "       'MGHCC1101-Tumor-SM-APCLS',\n",
    "                            \n",
    "       'MGHCC1108-Tumor-SM-APCJ5',\n",
    "        'MGHCC1108-Tumor-SM-APCJA',\n",
    "                             \n",
    "        'MGHCC1112-Tumor-SM-APCIK',\n",
    "       'MGHCC1112-Tumor-SM-APCIU', \n",
    "                            \n",
    "        'MGHCC1173-Tumor-SM-APCI6',\n",
    "       'MGHCC1173-Tumor-SM-APCIF', \n",
    "\n",
    "        'MGHCC1573-Tumor-SM-APCJK',\n",
    "       'MGHCC1573-Tumor-SM-APCJU']"
   ]
  },
  {
   "cell_type": "code",
   "execution_count": null,
   "id": "30b4d6cf-bf98-4fdc-9abc-17ffb663702a",
   "metadata": {},
   "outputs": [],
   "source": []
  },
  {
   "cell_type": "markdown",
   "id": "4f555ad5-fdc1-483b-a9b7-0675f0fcc33b",
   "metadata": {},
   "source": [
    "## Autopsy Sample Level statistics"
   ]
  },
  {
   "cell_type": "code",
   "execution_count": 7,
   "id": "a33ecffd-c532-47c8-8d48-bbb512d57193",
   "metadata": {},
   "outputs": [
    {
     "data": {
      "text/plain": [
       "15"
      ]
     },
     "execution_count": 7,
     "metadata": {},
     "output_type": "execute_result"
    }
   ],
   "source": [
    "len(combined_maf['Patient_ID'].unique())"
   ]
  },
  {
   "cell_type": "code",
   "execution_count": 14,
   "id": "0c8d210c-a1a1-4e8b-b6c6-15d814de3031",
   "metadata": {},
   "outputs": [
    {
     "name": "stdout",
     "output_type": "stream",
     "text": [
      "[5, 5, 5, 5, 9, 10, 12, 14, 14, 15, 19, 20, 21, 22, 22]\n",
      "14.0\n"
     ]
    }
   ],
   "source": [
    "RA_sample_num_per_pat = [ len(combined_maf[combined_maf['Patient_ID'] == i]['Sample_ID'].unique()) for i in list(combined_maf['Patient_ID'].unique()) ]\n",
    "print(sorted(RA_sample_num_per_pat))\n",
    "print(np.median(RA_sample_num_per_pat))\n"
   ]
  },
  {
   "cell_type": "markdown",
   "id": "7743a2a1-62d1-46fb-a7bc-cec7e449305b",
   "metadata": {},
   "source": [
    "## Biopsy Sample Level statistics"
   ]
  },
  {
   "cell_type": "code",
   "execution_count": 12,
   "id": "86eeba75-d94e-4793-b56e-21fc73e486cf",
   "metadata": {},
   "outputs": [
    {
     "name": "stdout",
     "output_type": "stream",
     "text": [
      "22\n"
     ]
    }
   ],
   "source": [
    "print(len(pre_post_maf_all['Patient_ID'].unique()))"
   ]
  },
  {
   "cell_type": "code",
   "execution_count": null,
   "id": "41d9b6ba-c053-4345-bc13-00dbbbb6986b",
   "metadata": {},
   "outputs": [],
   "source": [
    "## remove "
   ]
  },
  {
   "cell_type": "code",
   "execution_count": 15,
   "id": "97291cca-f08b-474b-a7b6-e6f69a1ff910",
   "metadata": {},
   "outputs": [
    {
     "name": "stdout",
     "output_type": "stream",
     "text": [
      "[1, 1, 2, 2, 2, 2, 2, 2, 2, 2, 2, 2, 2, 2, 3, 3, 3, 3, 3, 3, 3, 3]\n",
      "2.0\n"
     ]
    }
   ],
   "source": [
    "biopsy_sample_num_per_pat = [len(pre_post_maf_all[pre_post_maf_all['Patient_ID'] == i]['Sample_ID'].unique()) for i in list(pre_post_maf_all['Patient_ID'].unique())]\n",
    "print(sorted(biopsy_sample_num_per_pat))\n",
    "print(np.median(biopsy_sample_num_per_pat))\n"
   ]
  },
  {
   "cell_type": "markdown",
   "id": "697ecc0b-3339-406e-9dc8-b30a641675a2",
   "metadata": {},
   "source": [
    "## Compare sample numbers"
   ]
  },
  {
   "cell_type": "code",
   "execution_count": 16,
   "id": "9ab284a5-66b2-4486-9632-3d9fecd0bd7e",
   "metadata": {},
   "outputs": [
    {
     "data": {
      "text/plain": [
       "MannwhitneyuResult(statistic=np.float64(330.0), pvalue=np.float64(1.9056382781106136e-07))"
      ]
     },
     "execution_count": 16,
     "metadata": {},
     "output_type": "execute_result"
    }
   ],
   "source": [
    "stats.mannwhitneyu(RA_sample_num_per_pat, biopsy_sample_num_per_pat)\n"
   ]
  },
  {
   "cell_type": "markdown",
   "id": "377436f1-b339-4752-a233-72950dcb361d",
   "metadata": {},
   "source": [
    "## Compare Cell Populations"
   ]
  },
  {
   "cell_type": "code",
   "execution_count": 19,
   "id": "ecc955f8-0978-4352-9bcc-4f5aa0c57e10",
   "metadata": {},
   "outputs": [],
   "source": [
    "def format_cell_pop_df(input_df):\n",
    "    cell_abundance_df=input_df.copy()\n",
    "    cell_abundance_df.drop(columns=['Patient_ID'], inplace=True)\n",
    "    \n",
    "    cell_pops = list(cell_abundance_df['Cell_population'].unique())\n",
    "    sample_ids = list(cell_abundance_df['Sample_ID'].unique())\n",
    "    cell_abundances = list(cell_abundance_df['Cell_abundance'].unique())\n",
    "\n",
    "    sample_abundance_dict = {}\n",
    "    for sample in sample_ids:\n",
    "        sample_abundance_dict[sample] = (cell_abundance_df[cell_abundance_df['Sample_ID'] == sample]['Cell_abundance']).to_list()\n",
    "    transpose_df = pd.DataFrame.from_dict(sample_abundance_dict,orient='index',columns=cell_pops )\n",
    "    \n",
    "    return transpose_df"
   ]
  },
  {
   "cell_type": "code",
   "execution_count": 34,
   "id": "af584f81-8c3c-4cea-806c-f065848a7013",
   "metadata": {},
   "outputs": [],
   "source": [
    "biopsy_cell_pops = []\n",
    "for cell_pop in biopsy_get_cell_pops:\n",
    "    cell_pop_df = pd.read_csv(cell_pop, sep='\\t')\n",
    "    transpose_cell_pop=format_cell_pop_df(cell_pop_df)\n",
    "    biopsy_cell_pops.append(transpose_cell_pop)\n",
    "\n",
    "paired_biopsy_cell_pops = []\n",
    "for df in biopsy_cell_pops:\n",
    "    paired_biopsy_cell_pops.append(df[df.index.isin(prepost_proximal_samples)])"
   ]
  },
  {
   "cell_type": "code",
   "execution_count": 26,
   "id": "40415801-ca61-4620-b7c7-60e619b281c8",
   "metadata": {},
   "outputs": [],
   "source": [
    "autopsy_cell_pops = []\n",
    "\n",
    "for cell_pop in cellpops:\n",
    "    transpose_cell_pop=format_cell_pop_df(cell_pop)\n",
    "    autopsy_cell_pops.append(transpose_cell_pop)\n",
    "\n"
   ]
  },
  {
   "cell_type": "code",
   "execution_count": 24,
   "id": "b26a6b86-766c-44ee-b004-4a620d0602ac",
   "metadata": {},
   "outputs": [],
   "source": [
    "def get_all_cell_pops(transpose_ccfs, ccf_thresh):\n",
    "    cell_pops={}\n",
    "    unique_cell_pops=[]\n",
    "    for i,row in transpose_ccfs.iterrows():\n",
    "        largest_vals=[]\n",
    "        vals_indices=[]\n",
    "        for val in row:\n",
    "            if val > ccf_thresh:\n",
    "                largest_vals.append(val)\n",
    "                vals_indices.append(row[row==val].index[0])\n",
    "                \n",
    "                unique_cell_pops.append(row[row==val].index[0])\n",
    "        cell_pops[i]=(largest_vals,vals_indices)\n",
    "    return set(unique_cell_pops)"
   ]
  },
  {
   "cell_type": "code",
   "execution_count": 40,
   "id": "61d355d7-6040-45ce-be45-813972bb3eca",
   "metadata": {},
   "outputs": [
    {
     "name": "stdout",
     "output_type": "stream",
     "text": [
      "[14, 5, 4, 6, 7, 4, 7, 13, 3, 2, 6, 9, 8, 8, 8]\n",
      "7.0\n"
     ]
    }
   ],
   "source": [
    "pat_cell_pops=[]\n",
    "for df in autopsy_cell_pops:\n",
    "    pat_cell_pops.append(get_all_cell_pops(df, 10))\n",
    "\n",
    "## remove CL1 but keep CL1_\n",
    "no_clonal_clusts_RA=[]\n",
    "\n",
    "for vals in pat_cell_pops:\n",
    "    new_vals=[]\n",
    "    for val in vals:\n",
    "        if val!='CL1':\n",
    "            new_vals.append(val)\n",
    "    \n",
    "    no_clonal_clusts_RA.append(new_vals)       \n",
    "            \n",
    "            \n",
    "RA_length=[len(cell_pop) for cell_pop in no_clonal_clusts_RA]\n",
    "print(RA_length)\n",
    "print(np.median(RA_length))"
   ]
  },
  {
   "cell_type": "code",
   "execution_count": 41,
   "id": "da7ac739-c751-4f40-a7ab-aaa789673721",
   "metadata": {},
   "outputs": [
    {
     "name": "stdout",
     "output_type": "stream",
     "text": [
      "[3, 1, 3, 2, 2, 4, 4, 4, 2, 4, 4, 2, 2, 4, 4, 2, 2, 2, 2, 0, 0, 4]\n",
      "2.0\n"
     ]
    }
   ],
   "source": [
    "paired_biopsy_pat_cell_pops=[]\n",
    "for df in paired_biopsy_cell_pops:\n",
    "    paired_biopsy_pat_cell_pops.append(get_all_cell_pops(df, 10))\n",
    "\n",
    "## remove CL1 but keep CL_\n",
    "no_clonal_clusts_paired_biopsy=[]\n",
    "\n",
    "for vals in paired_biopsy_pat_cell_pops:\n",
    "    new_vals=[]\n",
    "    for val in vals:\n",
    "        if val!='CL1':\n",
    "            new_vals.append(val)\n",
    "    \n",
    "    no_clonal_clusts_paired_biopsy.append(new_vals)       \n",
    "            \n",
    "            \n",
    "biopsy_length=[len(cell_pop) for cell_pop in no_clonal_clusts_paired_biopsy]\n",
    "print(biopsy_length)\n",
    "print(np.median(biopsy_length))"
   ]
  },
  {
   "cell_type": "code",
   "execution_count": 42,
   "id": "3f17fb92-71df-4d1d-abfe-852f62708703",
   "metadata": {},
   "outputs": [
    {
     "data": {
      "text/plain": [
       "MannwhitneyuResult(statistic=np.float64(298.5), pvalue=np.float64(2.6686864807167235e-05))"
      ]
     },
     "execution_count": 42,
     "metadata": {},
     "output_type": "execute_result"
    }
   ],
   "source": [
    "stats.mannwhitneyu(RA_length, biopsy_length)"
   ]
  },
  {
   "cell_type": "code",
   "execution_count": 47,
   "id": "1629f097-e70f-4775-a410-78643f5b4c92",
   "metadata": {},
   "outputs": [],
   "source": [
    "compared_cell_pops=pd.DataFrame({'RA CellPops': pd.Series(RA_length),\n",
    "                 'Biopsy CellPops': pd.Series(biopsy_length)})"
   ]
  },
  {
   "cell_type": "code",
   "execution_count": 48,
   "id": "df75bbfd-3294-4d9d-a060-7e6ebbdd108f",
   "metadata": {},
   "outputs": [
    {
     "name": "stderr",
     "output_type": "stream",
     "text": [
      "/var/folders/rx/pxwbtcqd6k38h9yc5d3m4k1w0000gp/T/ipykernel_33366/1382199060.py:3: UserWarning: The palette list has more values (12) than needed (2), which may not be intended.\n",
      "  sns.violinplot(data=compared_cell_pops,inner=\"point\",orient='v',ax=ax1,palette=sns.color_palette('Paired'),\n"
     ]
    },
    {
     "data": {
      "image/png": "[encoded data removed]",
      "text/plain": [
       "<Figure size 600x500 with 1 Axes>"
      ]
     },
     "metadata": {},
     "output_type": "display_data"
    }
   ],
   "source": [
    "fig,ax1 = plt.subplots(nrows=1, ncols=1, figsize=(6, 5))\n",
    "ax1.set_yticks([0,2,4,6,8,10,12,14,16,18,20,22])\n",
    "sns.violinplot(data=compared_cell_pops,inner=\"point\",orient='v',ax=ax1,palette=sns.color_palette('Paired'),\n",
    "              native_scale=True).set_title(\"Cell Populations\" )\n",
    "\n",
    "stat, p_val = stats.mannwhitneyu(RA_length, biopsy_length)\n",
    "\n",
    "x_coord = 0.55 * (ax1.get_xlim()[1] - ax1.get_xlim()[0]) + ax1.get_xlim()[0]\n",
    "y_coord = 0.95 * (ax1.get_ylim()[1] - ax1.get_ylim()[0]) + ax1.get_ylim()[0]\n",
    "ax1.text(x=x_coord, y=y_coord, s=\"p_value = \" + str(round(p_val,5)), ha='left', va='top', fontsize=12)\n",
    "fig.tight_layout()\n",
    "\n",
    "fig.savefig('Cell_population_comparison_violinplot_with_pval.svg')"
   ]
  },
  {
   "cell_type": "markdown",
   "id": "cf5a74cd-abec-4871-be65-b1ca8b85790f",
   "metadata": {},
   "source": [
    "## Compare biopsy patients with 1 and 2 samples vs biopsy patients with 3 samples"
   ]
  },
  {
   "cell_type": "code",
   "execution_count": 49,
   "id": "e9d017f1-009e-49ec-a4b9-dcb655df8281",
   "metadata": {},
   "outputs": [],
   "source": [
    "patients_with_3_samples=[]\n",
    "patients_with_few_samples = []\n",
    "\n",
    "for df in biopsy_cell_pops:\n",
    "    if len(df)==3:\n",
    "        patients_with_3_samples.append(df)\n",
    "    else:\n",
    "        patients_with_few_samples.append(df)"
   ]
  },
  {
   "cell_type": "code",
   "execution_count": 53,
   "id": "78dd200d-97b3-400c-a997-6ad8fa0ec7d6",
   "metadata": {},
   "outputs": [
    {
     "name": "stdout",
     "output_type": "stream",
     "text": [
      "[5, 2, 4, 3, 4, 3, 4, 4]\n",
      "4.0\n"
     ]
    }
   ],
   "source": [
    "patients_with_3_samples_cell_pops=[]\n",
    "for df in patients_with_3_samples:\n",
    "    patients_with_3_samples_cell_pops.append(get_all_cell_pops(df, 10))\n",
    "\n",
    "## remove CL1 but keep CL_\n",
    "no_clonal_clusts_patients_with_3_samples_cell_pops=[]\n",
    "\n",
    "for vals in patients_with_3_samples_cell_pops:\n",
    "    new_vals=[]\n",
    "    for val in vals:\n",
    "        if val!='CL1':\n",
    "            new_vals.append(val)\n",
    "    \n",
    "    no_clonal_clusts_patients_with_3_samples_cell_pops.append(new_vals)       \n",
    "            \n",
    "patients_with_3_samples_biopsy_length=[len(cell_pop) for cell_pop in no_clonal_clusts_patients_with_3_samples_cell_pops]\n",
    "print(patients_with_3_samples_biopsy_length)\n",
    "print(np.median(patients_with_3_samples_biopsy_length))"
   ]
  },
  {
   "cell_type": "code",
   "execution_count": 54,
   "id": "e69eaf7e-35f0-4dcc-b3a4-5dd59b71f497",
   "metadata": {},
   "outputs": [
    {
     "name": "stdout",
     "output_type": "stream",
     "text": [
      "[2, 4, 4, 2, 4, 4, 2, 4, 4, 2, 2, 3, 1, 4]\n",
      "3.5\n"
     ]
    }
   ],
   "source": [
    "patients_with_few_samples_cell_pops=[]\n",
    "for df in patients_with_few_samples:\n",
    "    patients_with_few_samples_cell_pops.append(get_all_cell_pops(df, 10))\n",
    "\n",
    "## remove CL1 but keep CL_\n",
    "no_clonal_clusts_patients_with_few_samples_cell_pops=[]\n",
    "\n",
    "for vals in patients_with_few_samples_cell_pops:\n",
    "    new_vals=[]\n",
    "    for val in vals:\n",
    "        if val!='CL1':\n",
    "            new_vals.append(val)\n",
    "    \n",
    "    no_clonal_clusts_patients_with_few_samples_cell_pops.append(new_vals)       \n",
    "            \n",
    "            \n",
    "patients_with_few_samples_biopsy_length=[len(cell_pop) for cell_pop in no_clonal_clusts_patients_with_few_samples_cell_pops]\n",
    "print(patients_with_few_samples_biopsy_length)\n",
    "print(np.median(patients_with_few_samples_biopsy_length))"
   ]
  },
  {
   "cell_type": "code",
   "execution_count": 55,
   "id": "8dd58ebe-fe40-4d09-97cd-2116598be33d",
   "metadata": {},
   "outputs": [
    {
     "data": {
      "text/plain": [
       "MannwhitneyuResult(statistic=np.float64(72.5), pvalue=np.float64(0.23725582662349487))"
      ]
     },
     "execution_count": 55,
     "metadata": {},
     "output_type": "execute_result"
    }
   ],
   "source": [
    "stats.mannwhitneyu(patients_with_3_samples_biopsy_length, patients_with_few_samples_biopsy_length)"
   ]
  },
  {
   "cell_type": "markdown",
   "id": "dc898931-0ec8-4b60-a149-a464f7eba5bc",
   "metadata": {},
   "source": [
    "## Compare Mutations in Branches"
   ]
  },
  {
   "cell_type": "code",
   "execution_count": null,
   "id": "836dade1-a869-433e-8227-4e22977ba02d",
   "metadata": {},
   "outputs": [],
   "source": []
  }
 ],
 "metadata": {
  "kernelspec": {
   "display_name": "py39",
   "language": "python",
   "name": "py39"
  },
  "language_info": {
   "codemirror_mode": {
    "name": "ipython",
    "version": 3
   },
   "file_extension": ".py",
   "mimetype": "text/x-python",
   "name": "python",
   "nbconvert_exporter": "python",
   "pygments_lexer": "ipython3",
   "version": "3.9.19"
  }
 },
 "nbformat": 4,
 "nbformat_minor": 5
}
