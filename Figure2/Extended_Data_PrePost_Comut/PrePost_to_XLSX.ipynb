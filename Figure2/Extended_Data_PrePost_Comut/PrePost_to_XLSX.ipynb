{
 "cells": [
  {
   "cell_type": "code",
   "execution_count": 1,
   "id": "e5ed06df",
   "metadata": {},
   "outputs": [],
   "source": [
    "import pandas as pd\n",
    "import numpy as np\n",
    "import seaborn as sns\n",
    "import sys\n",
    "\n",
    "import random\n",
    "import math\n",
    "import dalmatian"
   ]
  },
  {
   "cell_type": "markdown",
   "id": "2206b950",
   "metadata": {},
   "source": [
    "## pre post by sample for comut information"
   ]
  },
  {
   "cell_type": "code",
   "execution_count": 3,
   "id": "8a66002e",
   "metadata": {},
   "outputs": [],
   "source": [
    "mutation_by_sample = pd.read_csv(\"only_pre_post_mut_data_24_filtered_spaces.tsv\", sep='\\t')\n",
    "purity_data = pd.read_csv(\"only_pre_post_purity.tsv\", sep='\\t')\n",
    "location_data = pd.read_csv(\"only_pre_post_location_data.tsv\", sep='\\t')\n",
    "\n",
    "mutation_burden_df_sample = pd.read_csv(\"only_pre_post_clonality.tsv\", sep='\\t')\n",
    "mutation_sigs_data_sample = pd.read_csv(\"prepost_sigs_by_sample_040524_for_comut.tsv\", sep='\\t')\n",
    "mutation_freq_data = pd.read_csv('prevalence_in_post.tsv',sep='\\t')"
   ]
  },
  {
   "cell_type": "markdown",
   "id": "cc065cad",
   "metadata": {},
   "source": [
    "## pre post by clone information"
   ]
  },
  {
   "cell_type": "code",
   "execution_count": 4,
   "id": "4642101b",
   "metadata": {},
   "outputs": [],
   "source": [
    "mutation_data_clonal = pd.read_csv(\"pre_post_mutations_for_comut_120523.tsv\", sep='\\t')\n",
    "sigs_data_clonal = pd.read_csv(\"prepost_with_cosmic2_sigs_120523_v2.tsv\", sep='\\t')\n",
    "mutation_burden_data_clonal = pd.read_csv(\"pre_post_mut_burden_log_120523.tsv\", sep='\\t')"
   ]
  },
  {
   "cell_type": "code",
   "execution_count": 6,
   "id": "623ac4b4",
   "metadata": {},
   "outputs": [],
   "source": [
    "prepost_mutsig_res = pd.read_csv('/Users/lmartin/Documents/2024/CDK4_Pre_Post_Sample_Comut/PrePost_Mutsig/mutsig_results_pats_remove_junk1/outdir/sig_genes.txt',sep='\\t')\n",
    "                                \n",
    "                                "
   ]
  },
  {
   "cell_type": "code",
   "execution_count": 8,
   "id": "aaa6ae44",
   "metadata": {},
   "outputs": [],
   "source": [
    "with pd.ExcelWriter('Extended_Data_Table_Extended_Data_Fig3_PrePost.xlsx') as writer:  \n",
    "    \n",
    "    location_data.to_excel(writer, sheet_name='Location')\n",
    "    purity_data.to_excel(writer, sheet_name='Purity')\n",
    "    mutation_by_sample.to_excel(writer, sheet_name='Mutations_by_Sample')\n",
    "    mutation_burden_df_sample.to_excel(writer, sheet_name='MutationBurden_by_Sample')\n",
    "    mutation_sigs_data_sample.to_excel(writer, sheet_name='Signatures_Sample')\n",
    "    \n",
    "    mutation_burden_data_clonal.to_excel(writer, sheet_name='Clonal_Mut_Burden')\n",
    "    mutation_data_clonal.to_excel(writer, sheet_name='Clonal_Mutations')\n",
    "    sigs_data_clonal.to_excel(writer, sheet_name='Signatures_Clonal')\n",
    "    \n",
    "    \n",
    "    prepost_mutsig_res.to_excel(writer, sheet_name='Mutsig_Results')\n",
    "    \n",
    "    "
   ]
  },
  {
   "cell_type": "code",
   "execution_count": null,
   "id": "d2aa8d7f",
   "metadata": {},
   "outputs": [],
   "source": []
  }
 ],
 "metadata": {
  "kernelspec": {
   "display_name": "Python 3 (ipykernel)",
   "language": "python",
   "name": "python3"
  },
  "language_info": {
   "codemirror_mode": {
    "name": "ipython",
    "version": 3
   },
   "file_extension": ".py",
   "mimetype": "text/x-python",
   "name": "python",
   "nbconvert_exporter": "python",
   "pygments_lexer": "ipython3",
   "version": "3.9.13"
  }
 },
 "nbformat": 4,
 "nbformat_minor": 5
}
