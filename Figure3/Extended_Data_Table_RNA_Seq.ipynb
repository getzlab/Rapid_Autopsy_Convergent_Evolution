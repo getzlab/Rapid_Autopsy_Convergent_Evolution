{
 "cells": [
  {
   "cell_type": "code",
   "execution_count": 1,
   "id": "cfbce770",
   "metadata": {},
   "outputs": [],
   "source": [
    "import pandas as pd\n",
    "import numpy as np\n",
    "import sys\n",
    "import os\n",
    "\n",
    "import random\n",
    "import math\n",
    "import dalmatian\n",
    "import qtl.io"
   ]
  },
  {
   "cell_type": "markdown",
   "id": "1c02fb8f",
   "metadata": {},
   "source": [
    "## import metrics"
   ]
  },
  {
   "cell_type": "code",
   "execution_count": 2,
   "id": "27953897",
   "metadata": {},
   "outputs": [],
   "source": [
    "metrics = pd.read_csv('~/Documents/2023/CDK4_all_RNA_updated/CDK4_aggregated_090123_v2.metrics.txt', sep='\\t', index_col=0)\n",
    "\n"
   ]
  },
  {
   "cell_type": "markdown",
   "id": "e099bcba",
   "metadata": {},
   "source": [
    "## import raw TPMs, raw counts"
   ]
  },
  {
   "cell_type": "code",
   "execution_count": 3,
   "id": "be6adf0a",
   "metadata": {},
   "outputs": [],
   "source": [
    "## tpms\n",
    "\n",
    "RA_raw_TPMs = qtl.io.read_gct('~/Documents/2023/CDK4_all_RNA_updated/CDK4_aggregated_090123_v2.gene_tpm.gct')"
   ]
  },
  {
   "cell_type": "code",
   "execution_count": 6,
   "id": "7d2cde07",
   "metadata": {},
   "outputs": [],
   "source": [
    "RA_processed_TPMs = pd.read_csv('~/Documents/2023/Rapid_Autopsy_Convergent_Evolution/Figure4/CDK_tpms_processed_092023.tsv',sep='\\t')\n",
    "\n"
   ]
  },
  {
   "cell_type": "code",
   "execution_count": 4,
   "id": "59116651",
   "metadata": {},
   "outputs": [],
   "source": [
    "RA_raw_counts = qtl.io.read_gct('~/Documents/2023/CDK4_all_RNA_updated/CDK4_aggregated_090123_v2.gene_reads.gct')\n",
    "\n"
   ]
  },
  {
   "cell_type": "code",
   "execution_count": 9,
   "id": "482c77fa",
   "metadata": {},
   "outputs": [],
   "source": [
    "RA_processed_counts = pd.read_csv('~/Documents/2023/Rapid_Autopsy_Convergent_Evolution/Figure4/CDK_counts_processed_092023.tsv',sep='\\t')\n",
    "\n"
   ]
  },
  {
   "cell_type": "markdown",
   "id": "0e8decb1",
   "metadata": {},
   "source": [
    "## limma res"
   ]
  },
  {
   "cell_type": "code",
   "execution_count": 5,
   "id": "28a1836b",
   "metadata": {},
   "outputs": [],
   "source": [
    "limma_res = pd.read_csv( '~/Documents/2023/Rapid_Autopsy_Convergent_Evolution/Figure4/kmt2c_vs_other_sva_changing_svs_110623.csv', sep='\\t')\n",
    "\n"
   ]
  },
  {
   "cell_type": "markdown",
   "id": "c6324a24",
   "metadata": {},
   "source": [
    "## GSEA res"
   ]
  },
  {
   "cell_type": "code",
   "execution_count": 6,
   "id": "5bf07332",
   "metadata": {},
   "outputs": [],
   "source": [
    "\n",
    "gsea_res = pd.read_csv(\"~/Documents/2023/Rapid_Autopsy_Convergent_Evolution/Figure4/kmt2c_vs_not_sva_relabel_110623_changing_svs_fgseaRes.tsv\",sep='\\t')\n",
    "\n"
   ]
  },
  {
   "cell_type": "markdown",
   "id": "381d95da",
   "metadata": {},
   "source": [
    "## permutations res"
   ]
  },
  {
   "cell_type": "code",
   "execution_count": null,
   "id": "59d1eae3",
   "metadata": {},
   "outputs": [],
   "source": []
  },
  {
   "cell_type": "code",
   "execution_count": null,
   "id": "bbbcd559",
   "metadata": {},
   "outputs": [],
   "source": []
  },
  {
   "cell_type": "markdown",
   "id": "e9904d9e",
   "metadata": {},
   "source": [
    "## Write results to spreadsheet"
   ]
  },
  {
   "cell_type": "code",
   "execution_count": 7,
   "id": "6050d71b",
   "metadata": {},
   "outputs": [],
   "source": [
    "with pd.ExcelWriter('Extended_Data_Table3_RA_RNASeq.xlsx') as writer:  \n",
    "    metrics.to_excel(writer, sheet_name='RNA-SeqQC_Metrics')\n",
    "    RA_raw_TPMs.to_excel(writer, sheet_name='Raw_TPMs')\n",
    "\n",
    "    RA_raw_counts.to_excel(writer, sheet_name='Raw_Counts')\n",
    "\n",
    "    limma_res.to_excel(writer, sheet_name='Limma_Output')\n",
    "    gsea_res.to_excel(writer, sheet_name='GSEA_Output')\n",
    "    #absolute_cn_df.to_excel(writer, sheet_name='Permutation_Significance')"
   ]
  },
  {
   "cell_type": "code",
   "execution_count": null,
   "id": "36f5242d",
   "metadata": {},
   "outputs": [],
   "source": []
  }
 ],
 "metadata": {
  "kernelspec": {
   "display_name": "Python 3 (ipykernel)",
   "language": "python",
   "name": "python3"
  },
  "language_info": {
   "codemirror_mode": {
    "name": "ipython",
    "version": 3
   },
   "file_extension": ".py",
   "mimetype": "text/x-python",
   "name": "python",
   "nbconvert_exporter": "python",
   "pygments_lexer": "ipython3",
   "version": "3.9.13"
  }
 },
 "nbformat": 4,
 "nbformat_minor": 5
}
