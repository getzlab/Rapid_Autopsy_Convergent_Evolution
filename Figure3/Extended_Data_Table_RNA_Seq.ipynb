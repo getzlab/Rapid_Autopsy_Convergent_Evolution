{
 "cells": [
  {
   "cell_type": "code",
   "execution_count": 1,
   "id": "cfbce770",
   "metadata": {},
   "outputs": [],
   "source": [
    "import pandas as pd\n",
    "import numpy as np\n",
    "import sys\n",
    "import os\n",
    "\n",
    "import random\n",
    "import math\n",
    "import dalmatian"
   ]
  },
  {
   "cell_type": "markdown",
   "id": "e099bcba",
   "metadata": {},
   "source": [
    "## import raw TPMs, raw counts"
   ]
  },
  {
   "cell_type": "code",
   "execution_count": null,
   "id": "be6adf0a",
   "metadata": {},
   "outputs": [],
   "source": [
    "## tpms\n",
    "\n",
    "RA_raw_TPMs"
   ]
  },
  {
   "cell_type": "code",
   "execution_count": null,
   "id": "7d2cde07",
   "metadata": {},
   "outputs": [],
   "source": []
  },
  {
   "cell_type": "markdown",
   "id": "0e8decb1",
   "metadata": {},
   "source": [
    "## limma res"
   ]
  },
  {
   "cell_type": "code",
   "execution_count": null,
   "id": "28a1836b",
   "metadata": {},
   "outputs": [],
   "source": [
    "limma_res = pd.read_csv( 'kmt2c_vs_other_sva_changing_svs_110623.csv', sep='\\t')\n",
    "\n"
   ]
  },
  {
   "cell_type": "markdown",
   "id": "c6324a24",
   "metadata": {},
   "source": [
    "## GSEA res"
   ]
  },
  {
   "cell_type": "code",
   "execution_count": null,
   "id": "5bf07332",
   "metadata": {},
   "outputs": [],
   "source": [
    "\n",
    "gsea_res = pd.read_csv(\"kmt2c_vs_not_sva_relabel_110623_changing_svs_no_sv11_fgseaRes.tsv\",sep='\\t')\n",
    "\n"
   ]
  },
  {
   "cell_type": "markdown",
   "id": "381d95da",
   "metadata": {},
   "source": [
    "## permutations res"
   ]
  },
  {
   "cell_type": "code",
   "execution_count": null,
   "id": "59d1eae3",
   "metadata": {},
   "outputs": [],
   "source": []
  },
  {
   "cell_type": "code",
   "execution_count": null,
   "id": "bbbcd559",
   "metadata": {},
   "outputs": [],
   "source": []
  },
  {
   "cell_type": "markdown",
   "id": "e9904d9e",
   "metadata": {},
   "source": [
    "## Write results to spreadsheet"
   ]
  },
  {
   "cell_type": "code",
   "execution_count": null,
   "id": "6050d71b",
   "metadata": {},
   "outputs": [],
   "source": [
    "with pd.ExcelWriter('Extended_Data_Table3_RNASeq.xlsx') as writer:  \n",
    "    mutccfs_df.to_excel(writer, sheet_name='TPMs')\n",
    "    clusterccfs_df.to_excel(writer, sheet_name='Counts')\n",
    "    buildtree_df.to_excel(writer, sheet_name='Limma_Output')\n",
    "    cellpop_df.to_excel(writer, sheet_name='GSEA_Output')\n",
    "    absolute_cn_df.to_excel(writer, sheet_name='Permutation_Significance')"
   ]
  }
 ],
 "metadata": {
  "kernelspec": {
   "display_name": "Python 3 (ipykernel)",
   "language": "python",
   "name": "python3"
  },
  "language_info": {
   "codemirror_mode": {
    "name": "ipython",
    "version": 3
   },
   "file_extension": ".py",
   "mimetype": "text/x-python",
   "name": "python",
   "nbconvert_exporter": "python",
   "pygments_lexer": "ipython3",
   "version": "3.9.13"
  }
 },
 "nbformat": 4,
 "nbformat_minor": 5
}
